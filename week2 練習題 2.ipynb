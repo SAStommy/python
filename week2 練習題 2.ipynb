{
 "cells": [
  {
   "cell_type": "code",
   "execution_count": 3,
   "id": "43d1ea50",
   "metadata": {},
   "outputs": [
    {
     "name": "stdout",
     "output_type": "stream",
     "text": [
      "被告應給付原告壹萬壹仟捌佰零伍元,及自民國九月十五日起至清償日止按日息萬分之五計算利息,延遲一個月清償需在當月付違約金壹佰伍拾元,每延遲一個月會使當月違約金按累月增加壹佰伍拾元,被告於民國九五年三月十九日清債債務\n"
     ]
    }
   ],
   "source": [
    "str=\"被告應給付原告壹萬壹仟捌佰零伍元,及自民國九月十五日起至清償日止按日息萬分之五計算利息,延遲一個月清償需在當月付違約金壹佰伍拾元,每延遲一個月會使當月違約金按累月增加壹佰伍拾元,被告於民國九五年三月十九日清債債務\"\n",
    "print(str)"
   ]
  },
  {
   "cell_type": "code",
   "execution_count": 4,
   "id": "4ab9a18d",
   "metadata": {},
   "outputs": [
    {
     "name": "stdout",
     "output_type": "stream",
     "text": [
      "請問被告償還的總金額?\n"
     ]
    }
   ],
   "source": [
    "question=\"請問被告償還的總金額?\"\n",
    "print(question)"
   ]
  },
  {
   "cell_type": "code",
   "execution_count": 8,
   "id": "4d04e2db",
   "metadata": {},
   "outputs": [
    {
     "name": "stdout",
     "output_type": "stream",
     "text": [
      "總金額= 12608\n"
     ]
    }
   ],
   "source": [
    "debt=11805\n",
    "month1=150\n",
    "month2=150*2\n",
    "interest=(1+0.0005)**(31-19+28+19)\n",
    "answers=debt*interest+month1+month2\n",
    "print(\"總金額=\",int(answers))"
   ]
  },
  {
   "cell_type": "code",
   "execution_count": null,
   "id": "118f6048",
   "metadata": {},
   "outputs": [],
   "source": []
  }
 ],
 "metadata": {
  "kernelspec": {
   "display_name": "Python 3 (ipykernel)",
   "language": "python",
   "name": "python3"
  },
  "language_info": {
   "codemirror_mode": {
    "name": "ipython",
    "version": 3
   },
   "file_extension": ".py",
   "mimetype": "text/x-python",
   "name": "python",
   "nbconvert_exporter": "python",
   "pygments_lexer": "ipython3",
   "version": "3.9.12"
  }
 },
 "nbformat": 4,
 "nbformat_minor": 5
}
