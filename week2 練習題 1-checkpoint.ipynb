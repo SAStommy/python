{
 "cells": [
  {
   "cell_type": "code",
   "execution_count": 7,
   "id": "72d8227e",
   "metadata": {},
   "outputs": [
    {
     "name": "stdout",
     "output_type": "stream",
     "text": [
      "雙方有過失責任,因此依7:3(被告:原告)比例賠償,而總額為25688\n",
      "問題:被告和原告個別付多少(整數輸出)?\n"
     ]
    }
   ],
   "source": [
    "print(\"雙方有過失責任,因此依7:3(被告:原告)比例賠償,而總額為25688\")\n",
    "print(\"問題:被告和原告個別付多少(整數輸出)?\")"
   ]
  },
  {
   "cell_type": "code",
   "execution_count": 6,
   "id": "295f2b31",
   "metadata": {},
   "outputs": [
    {
     "name": "stdout",
     "output_type": "stream",
     "text": [
      "被告= 17981\n",
      "被告= 7706\n"
     ]
    }
   ],
   "source": [
    "money1=25688/10*7\n",
    "money2=25688-money1\n",
    "print(\"被告=\",int(money1),\"元\")\n",
    "print(\"被告=\",int(money2),\"元\")"
   ]
  },
  {
   "cell_type": "code",
   "execution_count": null,
   "id": "b759da71",
   "metadata": {},
   "outputs": [],
   "source": []
  }
 ],
 "metadata": {
  "kernelspec": {
   "display_name": "Python 3 (ipykernel)",
   "language": "python",
   "name": "python3"
  },
  "language_info": {
   "codemirror_mode": {
    "name": "ipython",
    "version": 3
   },
   "file_extension": ".py",
   "mimetype": "text/x-python",
   "name": "python",
   "nbconvert_exporter": "python",
   "pygments_lexer": "ipython3",
   "version": "3.9.12"
  }
 },
 "nbformat": 4,
 "nbformat_minor": 5
}
