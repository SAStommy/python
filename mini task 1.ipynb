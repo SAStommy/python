{
 "cells": [
  {
   "cell_type": "code",
   "execution_count": 2,
   "id": "5e4b24d1",
   "metadata": {},
   "outputs": [
    {
     "name": "stdout",
     "output_type": "stream",
     "text": [
      "一年的生活費= 108000\n"
     ]
    }
   ],
   "source": [
    "money=9000\n",
    "mouth=12\n",
    "total_money=money*mouth\n",
    "print(\"一年的生活費=\",total_money)"
   ]
  },
  {
   "cell_type": "code",
   "execution_count": null,
   "id": "7b757b1f",
   "metadata": {},
   "outputs": [],
   "source": []
  }
 ],
 "metadata": {
  "kernelspec": {
   "display_name": "Python 3 (ipykernel)",
   "language": "python",
   "name": "python3"
  },
  "language_info": {
   "codemirror_mode": {
    "name": "ipython",
    "version": 3
   },
   "file_extension": ".py",
   "mimetype": "text/x-python",
   "name": "python",
   "nbconvert_exporter": "python",
   "pygments_lexer": "ipython3",
   "version": "3.9.12"
  }
 },
 "nbformat": 4,
 "nbformat_minor": 5
}
