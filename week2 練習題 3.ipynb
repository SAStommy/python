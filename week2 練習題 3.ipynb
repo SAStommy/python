{
 "cells": [
  {
   "cell_type": "code",
   "execution_count": 2,
   "id": "eee95b12",
   "metadata": {},
   "outputs": [
    {
     "name": "stdout",
     "output_type": "stream",
     "text": [
      "請輸入情況:\n",
      "請輸入情況:\n",
      "請輸入情況:\n",
      "請輸入情況:\n",
      "請輸入情況:12312\n",
      "請輸入情況:被告闖紅燈\n",
      "被告賠100%\n"
     ]
    }
   ],
   "source": [
    "statement=input(\"請輸入情況:\")\n",
    "while statement!=\"被告闖紅燈\" and statement!=\"原告闖紅燈\" and statement!=\"被告原告皆闖紅燈\":\n",
    "    statement=input(\"請輸入情況:\")\n",
    "if statement==\"被告闖紅燈\":\n",
    "    print(\"被告賠100%\")\n",
    "elif statement==\"原告闖紅燈\":\n",
    "    print(\"原告多被告少\")\n",
    "elif statement==\"被告原告皆闖紅燈\":\n",
    "    print(\"原告50%被告50%\")"
   ]
  },
  {
   "cell_type": "code",
   "execution_count": null,
   "id": "83588295",
   "metadata": {},
   "outputs": [],
   "source": []
  }
 ],
 "metadata": {
  "kernelspec": {
   "display_name": "Python 3 (ipykernel)",
   "language": "python",
   "name": "python3"
  },
  "language_info": {
   "codemirror_mode": {
    "name": "ipython",
    "version": 3
   },
   "file_extension": ".py",
   "mimetype": "text/x-python",
   "name": "python",
   "nbconvert_exporter": "python",
   "pygments_lexer": "ipython3",
   "version": "3.9.12"
  }
 },
 "nbformat": 4,
 "nbformat_minor": 5
}
